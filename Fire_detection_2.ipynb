{
  "metadata": {
    "kernelspec": {
      "display_name": "Python 3",
      "name": "python3"
    },
    "language_info": {
      "pygments_lexer": "ipython3",
      "nbconvert_exporter": "python",
      "version": "3.6.4",
      "file_extension": ".py",
      "codemirror_mode": {
        "name": "ipython",
        "version": 3
      },
      "name": "python",
      "mimetype": "text/x-python"
    },
    "colab": {
      "name": "Fire_detection_2",
      "provenance": [],
      "gpuType": "T4"
    },
    "accelerator": "GPU"
  },
  "nbformat_minor": 0,
  "nbformat": 4,
  "cells": [
    {
      "source": [
        "\n",
        "# IMPORTANT: RUN THIS CELL IN ORDER TO IMPORT YOUR KAGGLE DATA SOURCES\n",
        "# TO THE CORRECT LOCATION (/kaggle/input) IN YOUR NOTEBOOK,\n",
        "# THEN FEEL FREE TO DELETE THIS CELL.\n",
        "# NOTE: THIS NOTEBOOK ENVIRONMENT DIFFERS FROM KAGGLE'S PYTHON\n",
        "# ENVIRONMENT SO THERE MAY BE MISSING LIBRARIES USED BY YOUR\n",
        "# NOTEBOOK.\n",
        "\n",
        "import os\n",
        "import sys\n",
        "from tempfile import NamedTemporaryFile\n",
        "from urllib.request import urlopen\n",
        "from urllib.parse import unquote, urlparse\n",
        "from urllib.error import HTTPError\n",
        "from zipfile import ZipFile\n",
        "import tarfile\n",
        "import shutil\n",
        "\n",
        "CHUNK_SIZE = 40960\n",
        "DATA_SOURCE_MAPPING = 'test-dataset:https%3A%2F%2Fstorage.googleapis.com%2Fkaggle-data-sets%2F399530%2F767109%2Fbundle%2Farchive.zip%3FX-Goog-Algorithm%3DGOOG4-RSA-SHA256%26X-Goog-Credential%3Dgcp-kaggle-com%2540kaggle-161607.iam.gserviceaccount.com%252F20240520%252Fauto%252Fstorage%252Fgoog4_request%26X-Goog-Date%3D20240520T103405Z%26X-Goog-Expires%3D259200%26X-Goog-SignedHeaders%3Dhost%26X-Goog-Signature%3D75838945d73578f993913a900246febd50ee71d577d41d9cafcc723c72f6025b1a98139870fd5a0a1cd915fd75f3d5849e6e4a0298f623373cf308e7075b15bf0f7fa4d73133aefd064ce1037f46533391792050de79fa36d4ec2fcc999826cc9e2aca499970cd6cb0aaf657b62f4381291a2514a7d914a08e7d00c0028fe8cea059f68886e940c34eb77f9dfdb462266030d310a52324736a5d292e3e6b29842083479d4a9e6c2594d53cc44050594009aef6739445993fcd702fd2ba12deb9dc747aa2d9832cc5381cc2903eb59090e011305e111f3845bed23d46c1ce470167febb1e80bb736cb320376933bd736d4edda198980ed6cd7a9f551c0b0dd7f6'\n",
        "\n",
        "KAGGLE_INPUT_PATH='/kaggle/input'\n",
        "KAGGLE_WORKING_PATH='/kaggle/working'\n",
        "KAGGLE_SYMLINK='kaggle'\n",
        "\n",
        "!umount /kaggle/input/ 2> /dev/null\n",
        "shutil.rmtree('/kaggle/input', ignore_errors=True)\n",
        "os.makedirs(KAGGLE_INPUT_PATH, 0o777, exist_ok=True)\n",
        "os.makedirs(KAGGLE_WORKING_PATH, 0o777, exist_ok=True)\n",
        "\n",
        "try:\n",
        "  os.symlink(KAGGLE_INPUT_PATH, os.path.join(\"..\", 'input'), target_is_directory=True)\n",
        "except FileExistsError:\n",
        "  pass\n",
        "try:\n",
        "  os.symlink(KAGGLE_WORKING_PATH, os.path.join(\"..\", 'working'), target_is_directory=True)\n",
        "except FileExistsError:\n",
        "  pass\n",
        "\n",
        "for data_source_mapping in DATA_SOURCE_MAPPING.split(','):\n",
        "    directory, download_url_encoded = data_source_mapping.split(':')\n",
        "    download_url = unquote(download_url_encoded)\n",
        "    filename = urlparse(download_url).path\n",
        "    destination_path = os.path.join(KAGGLE_INPUT_PATH, directory)\n",
        "    try:\n",
        "        with urlopen(download_url) as fileres, NamedTemporaryFile() as tfile:\n",
        "            total_length = fileres.headers['content-length']\n",
        "            print(f'Downloading {directory}, {total_length} bytes compressed')\n",
        "            dl = 0\n",
        "            data = fileres.read(CHUNK_SIZE)\n",
        "            while len(data) > 0:\n",
        "                dl += len(data)\n",
        "                tfile.write(data)\n",
        "                done = int(50 * dl / int(total_length))\n",
        "                sys.stdout.write(f\"\\r[{'=' * done}{' ' * (50-done)}] {dl} bytes downloaded\")\n",
        "                sys.stdout.flush()\n",
        "                data = fileres.read(CHUNK_SIZE)\n",
        "            if filename.endswith('.zip'):\n",
        "              with ZipFile(tfile) as zfile:\n",
        "                zfile.extractall(destination_path)\n",
        "            else:\n",
        "              with tarfile.open(tfile.name) as tarfile:\n",
        "                tarfile.extractall(destination_path)\n",
        "            print(f'\\nDownloaded and uncompressed: {directory}')\n",
        "    except HTTPError as e:\n",
        "        print(f'Failed to load (likely expired) {download_url} to path {destination_path}')\n",
        "        continue\n",
        "    except OSError as e:\n",
        "        print(f'Failed to load {download_url} to path {destination_path}')\n",
        "        continue\n",
        "\n",
        "print('Data source import complete.')\n"
      ],
      "metadata": {
        "id": "Fm8TaJ4sM4oB",
        "outputId": "bb1e88a7-c47e-4511-d0c0-1e6169fdf477",
        "colab": {
          "base_uri": "https://localhost:8080/"
        }
      },
      "cell_type": "code",
      "outputs": [
        {
          "output_type": "stream",
          "name": "stdout",
          "text": [
            "Downloading test-dataset, 138152460 bytes compressed\n",
            "[==================================================] 138152460 bytes downloaded\n",
            "Downloaded and uncompressed: test-dataset\n",
            "Data source import complete.\n"
          ]
        }
      ],
      "execution_count": 1
    },
    {
      "cell_type": "code",
      "source": [
        "# This Python 3 environment comes with many helpful analytics libraries installed\n",
        "# It is defined by the kaggle/python Docker image: https://github.com/kaggle/docker-python\n",
        "# For example, here's several helpful packages to load\n",
        "\n",
        "import numpy as np # linear algebra\n",
        "import pandas as pd # data processing, CSV file I/O (e.g. pd.read_csv)\n",
        "\n",
        "# Input data files are available in the read-only \"../input/\" directory\n",
        "# For example, running this (by clicking run or pressing Shift+Enter) will list all files under the input directory\n",
        "\n",
        "import os\n",
        "for dirname, _, filenames in os.walk('/kaggle/input'):\n",
        "    for filename in filenames:\n",
        "        print(os.path.join(dirname, filename))\n",
        "\n",
        "# You can write up to 20GB to the current directory (/kaggle/working/) that gets preserved as output when you create a version using \"Save & Run All\"\n",
        "# You can also write temporary files to /kaggle/temp/, but they won't be saved outside of the current session"
      ],
      "metadata": {
        "_cell_guid": "b1076dfc-b9ad-4769-8c92-a6c4dae69d19",
        "_uuid": "8f2839f25d086af736a60e9eeb907d3b93b6e0e5",
        "execution": {
          "iopub.status.busy": "2023-10-23T09:27:02.025553Z",
          "iopub.execute_input": "2023-10-23T09:27:02.025911Z",
          "iopub.status.idle": "2023-10-23T09:27:02.679914Z",
          "shell.execute_reply.started": "2023-10-23T09:27:02.025884Z",
          "shell.execute_reply": "2023-10-23T09:27:02.678979Z"
        },
        "trusted": true,
        "id": "hBA7lg7-M4oF"
      },
      "execution_count": null,
      "outputs": []
    },
    {
      "cell_type": "code",
      "source": [
        "import os\n",
        "No_fire = os.listdir(\"/kaggle/input/test-dataset/Fire-Detection/0\")\n",
        "fire = os.listdir(\"/kaggle/input/test-dataset/Fire-Detection/1\")"
      ],
      "metadata": {
        "execution": {
          "iopub.status.busy": "2023-10-23T09:27:02.681593Z",
          "iopub.execute_input": "2023-10-23T09:27:02.681952Z",
          "iopub.status.idle": "2023-10-23T09:27:02.687242Z",
          "shell.execute_reply.started": "2023-10-23T09:27:02.681927Z",
          "shell.execute_reply": "2023-10-23T09:27:02.686435Z"
        },
        "trusted": true,
        "id": "Y690ETIXM4oF"
      },
      "execution_count": null,
      "outputs": []
    },
    {
      "cell_type": "code",
      "source": [
        "print(\"length of no fire images\",len(No_fire))\n",
        "print(\"length of fired images\",len(fire))"
      ],
      "metadata": {
        "execution": {
          "iopub.status.busy": "2023-10-23T09:27:02.688189Z",
          "iopub.execute_input": "2023-10-23T09:27:02.688436Z",
          "iopub.status.idle": "2023-10-23T09:27:02.704509Z",
          "shell.execute_reply.started": "2023-10-23T09:27:02.688414Z",
          "shell.execute_reply": "2023-10-23T09:27:02.703841Z"
        },
        "trusted": true,
        "id": "tEIo9-98M4oG"
      },
      "execution_count": null,
      "outputs": []
    },
    {
      "cell_type": "code",
      "source": [
        "# create the labels\n",
        "\n",
        "No_fire_labels = [0]*541\n",
        "\n",
        "fire_labels = [1]*110"
      ],
      "metadata": {
        "execution": {
          "iopub.status.busy": "2023-10-23T09:27:02.70534Z",
          "iopub.execute_input": "2023-10-23T09:27:02.705568Z",
          "iopub.status.idle": "2023-10-23T09:27:02.714673Z",
          "shell.execute_reply.started": "2023-10-23T09:27:02.705548Z",
          "shell.execute_reply": "2023-10-23T09:27:02.713955Z"
        },
        "trusted": true,
        "id": "SjTgMlUHM4oG"
      },
      "execution_count": null,
      "outputs": []
    },
    {
      "cell_type": "code",
      "source": [
        "labels = No_fire_labels  + fire_labels\n",
        "\n",
        "print(len(labels))\n",
        "print(labels[0:5])\n",
        "print(labels[-5:])"
      ],
      "metadata": {
        "execution": {
          "iopub.status.busy": "2023-10-23T09:27:03.449845Z",
          "iopub.execute_input": "2023-10-23T09:27:03.450624Z",
          "iopub.status.idle": "2023-10-23T09:27:03.45464Z",
          "shell.execute_reply.started": "2023-10-23T09:27:03.450595Z",
          "shell.execute_reply": "2023-10-23T09:27:03.45397Z"
        },
        "trusted": true,
        "id": "IOnLXAH3M4oG"
      },
      "execution_count": null,
      "outputs": []
    },
    {
      "cell_type": "code",
      "source": [
        "# displaying with mask image\n",
        "import matplotlib.pyplot as plt\n",
        "import matplotlib.image as mpimg\n",
        "img = mpimg.imread('/kaggle/input/test-dataset/Fire-Detection/0/117.jpg')\n",
        "imgplot = plt.imshow(img)\n",
        "plt.show()"
      ],
      "metadata": {
        "execution": {
          "iopub.status.busy": "2023-10-23T09:27:03.455771Z",
          "iopub.execute_input": "2023-10-23T09:27:03.456075Z",
          "iopub.status.idle": "2023-10-23T09:27:04.856053Z",
          "shell.execute_reply.started": "2023-10-23T09:27:03.456053Z",
          "shell.execute_reply": "2023-10-23T09:27:04.855242Z"
        },
        "trusted": true,
        "id": "etMQV93aM4oG"
      },
      "execution_count": null,
      "outputs": []
    },
    {
      "cell_type": "code",
      "source": [
        "img = mpimg.imread('/kaggle/input/test-dataset/Fire-Detection/1/25.jpg')\n",
        "imgplot = plt.imshow(img)\n",
        "plt.show()"
      ],
      "metadata": {
        "execution": {
          "iopub.status.busy": "2023-10-23T09:27:04.857657Z",
          "iopub.execute_input": "2023-10-23T09:27:04.858012Z",
          "iopub.status.idle": "2023-10-23T09:27:05.472413Z",
          "shell.execute_reply.started": "2023-10-23T09:27:04.857984Z",
          "shell.execute_reply": "2023-10-23T09:27:05.471687Z"
        },
        "trusted": true,
        "id": "bEEM8u6-M4oH"
      },
      "execution_count": null,
      "outputs": []
    },
    {
      "cell_type": "code",
      "source": [
        "from PIL import Image\n",
        "#image processing\n",
        "No_fire_path = '/kaggle/input/test-dataset/Fire-Detection/0/'\n",
        "\n",
        "data = []\n",
        "\n",
        "for img_file in No_fire:\n",
        "\n",
        "    image = Image.open(No_fire_path + img_file)\n",
        "    image = image.resize((500,500))\n",
        "    image = image.convert('RGB')\n",
        "    image = np.array(image)\n",
        "    data.append(image)\n",
        "\n",
        "\n",
        "\n",
        "fire_path = '/kaggle/input/test-dataset/Fire-Detection/1/'\n",
        "\n",
        "\n",
        "for img_file in fire:\n",
        "\n",
        "    image = Image.open(fire_path + img_file)\n",
        "    image = image.resize((500,500))\n",
        "    image = image.convert('RGB')\n",
        "    image = np.array(image)\n",
        "    data.append(image)"
      ],
      "metadata": {
        "execution": {
          "iopub.status.busy": "2023-10-23T09:27:05.473393Z",
          "iopub.execute_input": "2023-10-23T09:27:05.473645Z",
          "iopub.status.idle": "2023-10-23T09:27:21.187889Z",
          "shell.execute_reply.started": "2023-10-23T09:27:05.473623Z",
          "shell.execute_reply": "2023-10-23T09:27:21.187088Z"
        },
        "trusted": true,
        "id": "rX_-vbbUM4oH"
      },
      "execution_count": null,
      "outputs": []
    },
    {
      "cell_type": "code",
      "source": [
        "data[0]"
      ],
      "metadata": {
        "execution": {
          "iopub.status.busy": "2023-10-23T09:27:21.189831Z",
          "iopub.execute_input": "2023-10-23T09:27:21.190133Z",
          "iopub.status.idle": "2023-10-23T09:27:21.196353Z",
          "shell.execute_reply.started": "2023-10-23T09:27:21.190107Z",
          "shell.execute_reply": "2023-10-23T09:27:21.195452Z"
        },
        "trusted": true,
        "id": "cOP43TLXM4oH"
      },
      "execution_count": null,
      "outputs": []
    },
    {
      "cell_type": "code",
      "source": [
        "data[0].shape"
      ],
      "metadata": {
        "execution": {
          "iopub.status.busy": "2023-10-23T09:27:21.197281Z",
          "iopub.execute_input": "2023-10-23T09:27:21.197512Z",
          "iopub.status.idle": "2023-10-23T09:27:21.210875Z",
          "shell.execute_reply.started": "2023-10-23T09:27:21.197491Z",
          "shell.execute_reply": "2023-10-23T09:27:21.210188Z"
        },
        "trusted": true,
        "id": "z_USx6ksM4oH"
      },
      "execution_count": null,
      "outputs": []
    },
    {
      "cell_type": "code",
      "source": [
        "# converting image list and label list to numpy arrays\n",
        "\n",
        "X = np.array(data)\n",
        "Y = np.array(labels)"
      ],
      "metadata": {
        "execution": {
          "iopub.status.busy": "2023-10-23T09:27:21.211781Z",
          "iopub.execute_input": "2023-10-23T09:27:21.212001Z",
          "iopub.status.idle": "2023-10-23T09:27:21.362742Z",
          "shell.execute_reply.started": "2023-10-23T09:27:21.211982Z",
          "shell.execute_reply": "2023-10-23T09:27:21.361969Z"
        },
        "trusted": true,
        "id": "W_NFQKuEM4oI"
      },
      "execution_count": null,
      "outputs": []
    },
    {
      "cell_type": "code",
      "source": [
        "print(X.shape)\n",
        "print(Y.shape)"
      ],
      "metadata": {
        "execution": {
          "iopub.status.busy": "2023-10-23T09:27:21.363693Z",
          "iopub.execute_input": "2023-10-23T09:27:21.363924Z",
          "iopub.status.idle": "2023-10-23T09:27:21.367817Z",
          "shell.execute_reply.started": "2023-10-23T09:27:21.363904Z",
          "shell.execute_reply": "2023-10-23T09:27:21.367179Z"
        },
        "trusted": true,
        "id": "tGzib3liM4oI"
      },
      "execution_count": null,
      "outputs": []
    },
    {
      "cell_type": "code",
      "source": [
        "from sklearn.model_selection import train_test_split\n"
      ],
      "metadata": {
        "execution": {
          "iopub.status.busy": "2023-10-23T09:27:21.368643Z",
          "iopub.execute_input": "2023-10-23T09:27:21.368865Z",
          "iopub.status.idle": "2023-10-23T09:27:22.016594Z",
          "shell.execute_reply.started": "2023-10-23T09:27:21.368843Z",
          "shell.execute_reply": "2023-10-23T09:27:22.0157Z"
        },
        "trusted": true,
        "id": "XVuy0HgFM4oI"
      },
      "execution_count": null,
      "outputs": []
    },
    {
      "cell_type": "code",
      "source": [
        "X_train, X_test, Y_train, Y_test = train_test_split(X, Y, test_size=0.2, random_state=2)"
      ],
      "metadata": {
        "execution": {
          "iopub.status.busy": "2023-10-23T09:27:22.017848Z",
          "iopub.execute_input": "2023-10-23T09:27:22.018386Z",
          "iopub.status.idle": "2023-10-23T09:27:22.166615Z",
          "shell.execute_reply.started": "2023-10-23T09:27:22.018356Z",
          "shell.execute_reply": "2023-10-23T09:27:22.16579Z"
        },
        "trusted": true,
        "id": "ghSxFNWWM4oI"
      },
      "execution_count": null,
      "outputs": []
    },
    {
      "cell_type": "code",
      "source": [
        "print(X.shape, X_train.shape, X_test.shape)"
      ],
      "metadata": {
        "execution": {
          "iopub.status.busy": "2023-10-23T09:27:22.169258Z",
          "iopub.execute_input": "2023-10-23T09:27:22.16957Z",
          "iopub.status.idle": "2023-10-23T09:27:22.173986Z",
          "shell.execute_reply.started": "2023-10-23T09:27:22.169544Z",
          "shell.execute_reply": "2023-10-23T09:27:22.173288Z"
        },
        "trusted": true,
        "id": "o1J3BddZM4oI"
      },
      "execution_count": null,
      "outputs": []
    },
    {
      "cell_type": "code",
      "source": [
        "# scaling the data\n",
        "\n",
        "X_train_scaled = X_train/255\n",
        "\n",
        "X_test_scaled = X_test/255"
      ],
      "metadata": {
        "execution": {
          "iopub.status.busy": "2023-10-23T09:27:22.17485Z",
          "iopub.execute_input": "2023-10-23T09:27:22.17511Z",
          "iopub.status.idle": "2023-10-23T09:27:23.467693Z",
          "shell.execute_reply.started": "2023-10-23T09:27:22.175088Z",
          "shell.execute_reply": "2023-10-23T09:27:23.466789Z"
        },
        "trusted": true,
        "id": "ijUjOyr_M4oI"
      },
      "execution_count": null,
      "outputs": []
    },
    {
      "cell_type": "code",
      "source": [
        "X_train[0]"
      ],
      "metadata": {
        "execution": {
          "iopub.status.busy": "2023-10-23T09:27:23.468804Z",
          "iopub.execute_input": "2023-10-23T09:27:23.469103Z",
          "iopub.status.idle": "2023-10-23T09:27:23.474979Z",
          "shell.execute_reply.started": "2023-10-23T09:27:23.469062Z",
          "shell.execute_reply": "2023-10-23T09:27:23.474233Z"
        },
        "trusted": true,
        "id": "6e-3oi45M4oI"
      },
      "execution_count": null,
      "outputs": []
    },
    {
      "cell_type": "code",
      "source": [
        "X_train_scaled[0]"
      ],
      "metadata": {
        "execution": {
          "iopub.status.busy": "2023-10-23T09:27:23.47596Z",
          "iopub.execute_input": "2023-10-23T09:27:23.476238Z",
          "iopub.status.idle": "2023-10-23T09:27:23.490995Z",
          "shell.execute_reply.started": "2023-10-23T09:27:23.476213Z",
          "shell.execute_reply": "2023-10-23T09:27:23.490228Z"
        },
        "trusted": true,
        "id": "tap9P06YM4oI"
      },
      "execution_count": null,
      "outputs": []
    },
    {
      "cell_type": "code",
      "source": [
        "import tensorflow as tf\n",
        "from tensorflow import keras\n",
        "from tensorflow.keras.layers import Conv2D, Flatten"
      ],
      "metadata": {
        "execution": {
          "iopub.status.busy": "2023-10-23T09:27:23.491887Z",
          "iopub.execute_input": "2023-10-23T09:27:23.492151Z",
          "iopub.status.idle": "2023-10-23T09:28:02.429021Z",
          "shell.execute_reply.started": "2023-10-23T09:27:23.49213Z",
          "shell.execute_reply": "2023-10-23T09:28:02.42756Z"
        },
        "trusted": true,
        "id": "lNHy-kEwM4oI"
      },
      "execution_count": null,
      "outputs": []
    },
    {
      "cell_type": "code",
      "source": [
        "from tensorflow.keras.layers import BatchNormalization\n",
        "num_of_classes = 2\n",
        "\n",
        "model = keras.Sequential()\n",
        "\n",
        "model.add(keras.layers.Conv2D(32, kernel_size=(3,3), activation='relu', input_shape=(500,500,3)))\n",
        "model.add(keras.layers.MaxPooling2D(pool_size=(2,2)))\n",
        "model.add(BatchNormalization())\n",
        "\n",
        "\n",
        "model.add(keras.layers.Conv2D(64, kernel_size=(3,3), activation='relu'))\n",
        "model.add(keras.layers.MaxPooling2D(pool_size=(2,2)))\n",
        "model.add(BatchNormalization())\n",
        "\n",
        "model.add(keras.layers.Flatten())\n",
        "\n",
        "model.add(keras.layers.Dense(128, activation='relu'))\n",
        "model.add(keras.layers.Dropout(0.5))\n",
        "model.add(BatchNormalization())\n",
        "\n",
        "\n",
        "model.add(keras.layers.Dense(64, activation='relu'))\n",
        "model.add(keras.layers.Dropout(0.5))\n",
        "model.add(BatchNormalization())\n",
        "\n",
        "model.add(keras.layers.Dense(32, activation='relu'))\n",
        "model.add(keras.layers.Dropout(0.5))\n",
        "\n",
        "\n",
        "\n",
        "model.add(keras.layers.Dense(num_of_classes, activation='sigmoid'))"
      ],
      "metadata": {
        "execution": {
          "iopub.status.busy": "2023-10-23T09:28:02.430512Z",
          "iopub.execute_input": "2023-10-23T09:28:02.43126Z",
          "iopub.status.idle": "2023-10-23T09:28:06.999238Z",
          "shell.execute_reply.started": "2023-10-23T09:28:02.431224Z",
          "shell.execute_reply": "2023-10-23T09:28:06.998326Z"
        },
        "trusted": true,
        "id": "rGBZjxo4M4oI"
      },
      "execution_count": null,
      "outputs": []
    },
    {
      "cell_type": "code",
      "source": [
        "model.summary()"
      ],
      "metadata": {
        "execution": {
          "iopub.status.busy": "2023-10-23T09:28:07.000258Z",
          "iopub.execute_input": "2023-10-23T09:28:07.000505Z",
          "iopub.status.idle": "2023-10-23T09:28:07.033268Z",
          "shell.execute_reply.started": "2023-10-23T09:28:07.000484Z",
          "shell.execute_reply": "2023-10-23T09:28:07.032487Z"
        },
        "trusted": true,
        "id": "LXckYmq0M4oJ"
      },
      "execution_count": null,
      "outputs": []
    },
    {
      "cell_type": "code",
      "source": [
        "# compile the neural network\n",
        "model.compile(optimizer='adam',\n",
        "              loss='sparse_categorical_crossentropy',\n",
        "              metrics=['acc'])"
      ],
      "metadata": {
        "execution": {
          "iopub.status.busy": "2023-10-23T09:28:07.034161Z",
          "iopub.execute_input": "2023-10-23T09:28:07.034415Z",
          "iopub.status.idle": "2023-10-23T09:28:07.048018Z",
          "shell.execute_reply.started": "2023-10-23T09:28:07.034393Z",
          "shell.execute_reply": "2023-10-23T09:28:07.047246Z"
        },
        "trusted": true,
        "id": "bgB-eVSXM4oJ"
      },
      "execution_count": null,
      "outputs": []
    },
    {
      "cell_type": "code",
      "source": [
        "# training the neural network\n",
        "history = model.fit(X_train_scaled, Y_train, validation_split=0.1, epochs=30)"
      ],
      "metadata": {
        "execution": {
          "iopub.status.busy": "2023-10-23T09:28:07.048805Z",
          "iopub.execute_input": "2023-10-23T09:28:07.049025Z",
          "iopub.status.idle": "2023-10-23T09:49:25.343421Z",
          "shell.execute_reply.started": "2023-10-23T09:28:07.049006Z",
          "shell.execute_reply": "2023-10-23T09:49:25.342269Z"
        },
        "trusted": true,
        "id": "VYtwy94XM4oJ"
      },
      "execution_count": null,
      "outputs": []
    },
    {
      "cell_type": "code",
      "source": [
        "loss, accuracy = model.evaluate(X_test_scaled, Y_test)\n",
        "print('Test Accuracy =', accuracy)"
      ],
      "metadata": {
        "execution": {
          "iopub.status.busy": "2023-10-23T09:49:25.345003Z",
          "iopub.execute_input": "2023-10-23T09:49:25.345368Z",
          "iopub.status.idle": "2023-10-23T09:49:28.249369Z",
          "shell.execute_reply.started": "2023-10-23T09:49:25.34534Z",
          "shell.execute_reply": "2023-10-23T09:49:28.248271Z"
        },
        "trusted": true,
        "id": "nouJ0jtJM4oJ"
      },
      "execution_count": null,
      "outputs": []
    },
    {
      "cell_type": "code",
      "source": [
        "h = history\n",
        "\n",
        "# plot the loss value\n",
        "plt.plot(h.history['loss'], label='train loss')\n",
        "plt.plot(h.history['val_loss'], label='validation loss')\n",
        "plt.legend()\n",
        "plt.show()\n",
        "\n",
        "# plot the accuracy value\n",
        "plt.plot(h.history['acc'], label='train accuracy')\n",
        "plt.plot(h.history['val_acc'], label='validation accuracy')\n",
        "plt.legend()\n",
        "plt.show()"
      ],
      "metadata": {
        "execution": {
          "iopub.status.busy": "2023-10-23T10:04:31.139984Z",
          "iopub.execute_input": "2023-10-23T10:04:31.140446Z",
          "iopub.status.idle": "2023-10-23T10:04:31.523951Z",
          "shell.execute_reply.started": "2023-10-23T10:04:31.140412Z",
          "shell.execute_reply": "2023-10-23T10:04:31.523069Z"
        },
        "trusted": true,
        "id": "K2zIDYNvM4oJ"
      },
      "execution_count": null,
      "outputs": []
    },
    {
      "cell_type": "code",
      "source": [
        "import cv2\n",
        "import matplotlib.pyplot as plt\n",
        "\n",
        "input_image_path = input('Path of the image to be predicted: ')\n",
        "\n",
        "input_image = cv2.imread(input_image_path)\n",
        "\n",
        "plt.imshow(cv2.cvtColor(input_image, cv2.COLOR_BGR2RGB))\n",
        "plt.axis('off')\n",
        "plt.show()\n",
        "# cv2.imshow(\"Image\",input_image)\n",
        "\n",
        "\n",
        "\n",
        "input_image_resized = cv2.resize(input_image, (500,500))\n",
        "\n",
        "input_image_scaled = input_image_resized/255\n",
        "\n",
        "input_image_reshaped = np.reshape(input_image_scaled, [1,500,500,3])\n",
        "\n",
        "input_prediction = model.predict(input_image_reshaped)\n",
        "\n",
        "print(input_prediction)\n",
        "\n",
        "\n",
        "input_pred_label = np.argmax(input_prediction)\n",
        "\n",
        "print(input_pred_label)\n",
        "\n",
        "\n",
        "if input_pred_label == 0:\n",
        "    print('Fire Detected')\n",
        "\n",
        "else:\n",
        "    print('no Fire Detected')"
      ],
      "metadata": {
        "execution": {
          "iopub.status.busy": "2023-10-23T11:02:10.306362Z",
          "iopub.execute_input": "2023-10-23T11:02:10.306772Z",
          "iopub.status.idle": "2023-10-23T11:02:14.928616Z",
          "shell.execute_reply.started": "2023-10-23T11:02:10.306743Z",
          "shell.execute_reply": "2023-10-23T11:02:14.927542Z"
        },
        "trusted": true,
        "id": "KsKpWQ3_M4oJ"
      },
      "execution_count": null,
      "outputs": []
    },
    {
      "cell_type": "code",
      "source": [
        "\n",
        "input_image_path = input('Path of the image to be predicted: ')\n",
        "\n",
        "input_image = cv2.imread(input_image_path)\n",
        "\n",
        "plt.imshow(cv2.cvtColor(input_image, cv2.COLOR_BGR2RGB))\n",
        "plt.axis('off')\n",
        "plt.show()\n",
        "# cv2.imshow(\"Image\",input_image)\n",
        "\n",
        "\n",
        "\n",
        "input_image_resized = cv2.resize(input_image, (500,500))\n",
        "\n",
        "input_image_scaled = input_image_resized/255\n",
        "\n",
        "input_image_reshaped = np.reshape(input_image_scaled, [1,500,500,3])\n",
        "\n",
        "input_prediction = model.predict(input_image_reshaped)\n",
        "\n",
        "print(input_prediction)\n",
        "\n",
        "\n",
        "input_pred_label = np.argmax(input_prediction)\n",
        "\n",
        "print(input_pred_label)\n",
        "\n",
        "\n",
        "if input_pred_label == 0:\n",
        "    print('Fire Detected')\n",
        "\n",
        "else:\n",
        "    print('no Fire Detected')"
      ],
      "metadata": {
        "execution": {
          "iopub.status.busy": "2023-10-23T11:00:42.618107Z",
          "iopub.execute_input": "2023-10-23T11:00:42.618512Z",
          "iopub.status.idle": "2023-10-23T11:00:46.334397Z",
          "shell.execute_reply.started": "2023-10-23T11:00:42.618482Z",
          "shell.execute_reply": "2023-10-23T11:00:46.333212Z"
        },
        "trusted": true,
        "id": "h7E9ZtrWM4oJ"
      },
      "execution_count": null,
      "outputs": []
    },
    {
      "cell_type": "code",
      "source": [],
      "metadata": {
        "id": "fBOeJNA4M4oJ"
      },
      "execution_count": null,
      "outputs": []
    },
    {
      "cell_type": "code",
      "source": [],
      "metadata": {
        "id": "4iNkSsIzM4oJ"
      },
      "execution_count": null,
      "outputs": []
    },
    {
      "cell_type": "code",
      "source": [],
      "metadata": {
        "id": "vJfYj9fAM4oJ"
      },
      "execution_count": null,
      "outputs": []
    }
  ]
}